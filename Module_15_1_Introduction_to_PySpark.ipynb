{
  "nbformat": 4,
  "nbformat_minor": 0,
  "metadata": {
    "colab": {
      "name": "Module 15.1 - Introduction to PySpark.ipynb",
      "version": "0.3.2",
      "provenance": [],
      "include_colab_link": true
    },
    "kernelspec": {
      "name": "python3",
      "display_name": "Python 3"
    }
  },
  "cells": [
    {
      "cell_type": "markdown",
      "metadata": {
        "id": "view-in-github",
        "colab_type": "text"
      },
      "source": [
        "<a href=\"https://colab.research.google.com/github/muksmuks/dl_ml_using_python/blob/master/Module_15_1_Introduction_to_PySpark.ipynb\" target=\"_parent\"><img src=\"https://colab.research.google.com/assets/colab-badge.svg\" alt=\"Open In Colab\"/></a>"
      ]
    },
    {
      "cell_type": "code",
      "metadata": {
        "id": "qFnXSGUV4KkU",
        "colab_type": "code",
        "colab": {}
      },
      "source": [
        "\n",
        "def assignment1(sc):\n",
        "    rdd = sc.parallelize(range(100))\n",
        "    return rdd.count()"
      ],
      "execution_count": 0,
      "outputs": []
    },
    {
      "cell_type": "code",
      "metadata": {
        "id": "fEDAujZk4N9h",
        "colab_type": "code",
        "colab": {}
      },
      "source": [
        "\n",
        "print(assignment1(sc))"
      ],
      "execution_count": 0,
      "outputs": []
    }
  ]
}