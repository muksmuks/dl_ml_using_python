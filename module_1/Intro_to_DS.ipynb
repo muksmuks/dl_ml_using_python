{
  "nbformat": 4,
  "nbformat_minor": 0,
  "metadata": {
    "colab": {
      "name": "Intro to DS.ipynb",
      "version": "0.3.2",
      "provenance": [],
      "include_colab_link": true
    },
    "kernelspec": {
      "name": "python3",
      "display_name": "Python 3"
    }
  },
  "cells": [
    {
      "cell_type": "markdown",
      "metadata": {
        "id": "view-in-github",
        "colab_type": "text"
      },
      "source": [
        "<a href=\"https://colab.research.google.com/github/muksmuks/dl_ml_using_python/blob/master/module_1/Intro_to_DS.ipynb\" target=\"_parent\"><img src=\"https://colab.research.google.com/assets/colab-badge.svg\" alt=\"Open In Colab\"/></a>"
      ]
    },
    {
      "cell_type": "code",
      "metadata": {
        "id": "I0LZ5vdmJWFw",
        "colab_type": "code",
        "colab": {
          "base_uri": "https://localhost:8080/",
          "height": 185
        },
        "outputId": "c9cbc19d-db7e-47a2-c6c8-f78ef63efe0d"
      },
      "source": [
        "for x in range(0,10):\n",
        "  print(x)"
      ],
      "execution_count": 2,
      "outputs": [
        {
          "output_type": "stream",
          "text": [
            "0\n",
            "1\n",
            "2\n",
            "3\n",
            "4\n",
            "5\n",
            "6\n",
            "7\n",
            "8\n",
            "9\n"
          ],
          "name": "stdout"
        }
      ]
    },
    {
      "cell_type": "markdown",
      "metadata": {
        "id": "FrJVufmqKMZo",
        "colab_type": "text"
      },
      "source": [
        "#Largest Size\n",
        "##Medium\n",
        "###Smaller\n",
        "\n",
        "\n",
        "**BOLD**\n",
        "\n",
        "_This_\n",
        "\n",
        "```\n",
        "def func_name():\n",
        "    return\n",
        "```\n",
        "\n",
        "\n",
        "\n",
        "\n",
        "$$\n",
        "x^2\n",
        "$$\n",
        "\n"
      ]
    },
    {
      "cell_type": "code",
      "metadata": {
        "id": "FxVOI9d1KBJb",
        "colab_type": "code",
        "colab": {}
      },
      "source": [
        ""
      ],
      "execution_count": 0,
      "outputs": []
    }
  ]
}